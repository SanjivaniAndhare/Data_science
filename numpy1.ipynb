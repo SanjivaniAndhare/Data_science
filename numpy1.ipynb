{
 "cells": [
  {
   "cell_type": "code",
   "execution_count": 1,
   "id": "62df25bb-22c5-4321-a706-fab3839be03e",
   "metadata": {},
   "outputs": [
    {
     "name": "stdout",
     "output_type": "stream",
     "text": [
      "numpy lib imported\n"
     ]
    }
   ],
   "source": [
    "import numpy as np\n",
    "print(\"numpy lib imported\")"
   ]
  },
  {
   "cell_type": "code",
   "execution_count": 2,
   "id": "80dfe385-738f-401f-968e-a15cf2129d5d",
   "metadata": {},
   "outputs": [
    {
     "name": "stdout",
     "output_type": "stream",
     "text": [
      "1.26.4\n"
     ]
    }
   ],
   "source": [
    "#check version for numpy:\n",
    "print(np.__version__)"
   ]
  },
  {
   "cell_type": "code",
   "execution_count": 3,
   "id": "bc0259e4-2fb0-403e-9342-42c42bd8fffb",
   "metadata": {},
   "outputs": [
    {
     "name": "stdout",
     "output_type": "stream",
     "text": [
      "[1 2 3 4 5]\n",
      "<class 'numpy.ndarray'>\n"
     ]
    }
   ],
   "source": [
    "a1=np.array([1,2,3,4,5])\n",
    "print(a1)\n",
    "print(type(a1))"
   ]
  },
  {
   "cell_type": "code",
   "execution_count": 5,
   "id": "38dbb80a-3b4d-4150-8973-ea228d0803a7",
   "metadata": {},
   "outputs": [
    {
     "name": "stdout",
     "output_type": "stream",
     "text": [
      "[1 2 3 4 5 6]\n",
      "<class 'numpy.ndarray'>\n"
     ]
    }
   ],
   "source": [
    "# create list and pass float datatypes:\n",
    "list=[1,2,3,4,5,6]\n",
    "a3=np.array([1,2,3,4,5,6])\n",
    "print(a3)\n",
    "print(type(a3))"
   ]
  },
  {
   "cell_type": "code",
   "execution_count": 9,
   "id": "75de8adf-8b4c-4d25-9ba9-21e480ebebf4",
   "metadata": {},
   "outputs": [
    {
     "name": "stdout",
     "output_type": "stream",
     "text": [
      "[[1 2 3 4]\n",
      " [5 6 7 8]]\n",
      "<class 'numpy.ndarray'>\n"
     ]
    },
    {
     "data": {
      "text/plain": [
       "(2, 4)"
      ]
     },
     "execution_count": 9,
     "metadata": {},
     "output_type": "execute_result"
    }
   ],
   "source": [
    "# 2d aaray(2 dimentional aaray):--\n",
    "# create 2D aaray\n",
    "a3=np.array([[1,2,3,4],[5,6,7,8]])\n",
    "print(a3)\n",
    "print(type(a3))\n",
    "a3.shape"
   ]
  },
  {
   "cell_type": "code",
   "execution_count": 14,
   "id": "e9ce6a9d-9215-41ce-ae17-8d1250caf124",
   "metadata": {},
   "outputs": [
    {
     "name": "stdout",
     "output_type": "stream",
     "text": [
      "2\n",
      "(2, 4)\n",
      "int32\n",
      "4\n",
      "32\n"
     ]
    }
   ],
   "source": [
    "#attribute\n",
    "#Shape\n",
    "#ndim\n",
    "#dtype\n",
    "#itemsize\n",
    "#nbtypes\n",
    "print(a3.ndim)\n",
    "print(a3.shape)\n",
    "print(a3.dtype)\n",
    "print(a3.itemsize)\n",
    "print(a3.nbytes)"
   ]
  },
  {
   "cell_type": "code",
   "execution_count": 18,
   "id": "de8d6ec6-c5bc-4d34-8f22-d0d71531f2a9",
   "metadata": {},
   "outputs": [
    {
     "name": "stdout",
     "output_type": "stream",
     "text": [
      "2\n",
      "(3, 3)\n",
      "float64\n",
      "8\n",
      "72\n"
     ]
    }
   ],
   "source": [
    "# create float type 2-D aaray of float type 3*3 , print all attributes\n",
    "a4=np.array([[4.4,5.6,7.6],[4.3,5.8,9.6],[4.2,5,8]])\n",
    "print(a4.ndim)\n",
    "print(a4.shape)\n",
    "print(a4.dtype)\n",
    "print(a4.itemsize)\n",
    "print(a4.nbytes)"
   ]
  },
  {
   "cell_type": "code",
   "execution_count": 20,
   "id": "43684c05-cdbb-4dc0-badd-d41db39b81fb",
   "metadata": {},
   "outputs": [
    {
     "name": "stdout",
     "output_type": "stream",
     "text": [
      "[['banana' 'apple123']\n",
      " ['pen' 'pencil']]\n",
      "2\n",
      "(2, 2)\n",
      "<U8\n",
      "32\n",
      "128\n"
     ]
    }
   ],
   "source": [
    "a5=np.array([['banana','apple123'],['pen','pencil']])\n",
    "print(a5)\n",
    "print(a5.ndim)\n",
    "print(a5.shape)\n",
    "print(a5.dtype)\n",
    "print(a5.itemsize)\n",
    "print(a5.nbytes)"
   ]
  },
  {
   "cell_type": "code",
   "execution_count": 21,
   "id": "c1b2d503-58f0-4de6-8a64-4eb57adaf8b6",
   "metadata": {},
   "outputs": [],
   "source": [
    "import numpy as np"
   ]
  },
  {
   "cell_type": "code",
   "execution_count": 23,
   "id": "eb63adad-09e0-480c-a741-af09ef8f61ef",
   "metadata": {},
   "outputs": [
    {
     "name": "stdout",
     "output_type": "stream",
     "text": [
      "[10 20 30 40 50]\n",
      "[0.3 0.4 0.5 0.6 0.7]\n"
     ]
    }
   ],
   "source": [
    "distance=np.array([10,20,30,40,50,])\n",
    "time=np.array([0.3,0.4,0.5,0.6,0.7])\n",
    "print(distance)\n",
    "print(time)"
   ]
  },
  {
   "cell_type": "code",
   "execution_count": 4,
   "id": "6544c16b-ac4c-4789-b67a-2bfcab272e5f",
   "metadata": {},
   "outputs": [],
   "source": [
    "import numpy as np"
   ]
  },
  {
   "cell_type": "code",
   "execution_count": 5,
   "id": "d9d85256-70ac-4b3e-b349-88b5c4f76f4a",
   "metadata": {},
   "outputs": [
    {
     "name": "stdout",
     "output_type": "stream",
     "text": [
      "[[[ 1  2  3]\n",
      "  [ 4  5  6]]\n",
      "\n",
      " [[10 20 30]\n",
      "  [40 50 60]]]\n",
      "(2, 2, 3)\n",
      "3\n",
      "int32\n",
      "12\n"
     ]
    }
   ],
   "source": [
    "# 3 Dimentional array(3d array):--\n",
    "a6=np.array([[[1,2,3],[4,5,6]],[[10,20,30],[40,50,60]]])\n",
    "print(a6)\n",
    "print(a6.shape)\n",
    "print(a6.ndim)\n",
    "print(a6.dtype)\n",
    "print(a6.size)"
   ]
  },
  {
   "cell_type": "code",
   "execution_count": null,
   "id": "c19e8662-ebe4-4567-923d-8a1c8d63f5fa",
   "metadata": {},
   "outputs": [],
   "source": []
  },
  {
   "cell_type": "code",
   "execution_count": null,
   "id": "68a9aa16-1044-44a2-a14b-9ec125137a9f",
   "metadata": {},
   "outputs": [],
   "source": []
  }
 ],
 "metadata": {
  "kernelspec": {
   "display_name": "Python 3 (ipykernel)",
   "language": "python",
   "name": "python3"
  },
  "language_info": {
   "codemirror_mode": {
    "name": "ipython",
    "version": 3
   },
   "file_extension": ".py",
   "mimetype": "text/x-python",
   "name": "python",
   "nbconvert_exporter": "python",
   "pygments_lexer": "ipython3",
   "version": "3.11.7"
  }
 },
 "nbformat": 4,
 "nbformat_minor": 5
}
