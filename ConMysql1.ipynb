{
 "cells": [
  {
   "cell_type": "code",
   "execution_count": 5,
   "id": "b88fd46c-99e7-46e7-a55c-cc7357c72726",
   "metadata": {},
   "outputs": [
    {
     "name": "stdout",
     "output_type": "stream",
     "text": [
      "Collecting pymysql\n",
      "  Downloading PyMySQL-1.1.1-py3-none-any.whl.metadata (4.4 kB)\n",
      "Downloading PyMySQL-1.1.1-py3-none-any.whl (44 kB)\n",
      "   ---------------------------------------- 0.0/45.0 kB ? eta -:--:--\n",
      "   --------- ------------------------------ 10.2/45.0 kB ? eta -:--:--\n",
      "   ------------------------------------ --- 41.0/45.0 kB 393.8 kB/s eta 0:00:01\n",
      "   ---------------------------------------- 45.0/45.0 kB 445.3 kB/s eta 0:00:00\n",
      "Installing collected packages: pymysql\n",
      "Successfully installed pymysql-1.1.1\n"
     ]
    }
   ],
   "source": [
    "!pip install pymysql"
   ]
  },
  {
   "cell_type": "code",
   "execution_count": 9,
   "id": "77a09c68-1ed0-4e4a-98fe-cddef50fe80b",
   "metadata": {},
   "outputs": [],
   "source": [
    "import pymysql as ps"
   ]
  },
  {
   "cell_type": "code",
   "execution_count": 10,
   "id": "617b0986-8c47-4a1f-afb1-a4e3c3a9fadb",
   "metadata": {},
   "outputs": [],
   "source": [
    "import pandas as pd\n",
    "import matplotlib.pyplot as plt\n",
    "import warnings\n",
    "warnings.filterwarnings('ignore')"
   ]
  },
  {
   "cell_type": "code",
   "execution_count": 12,
   "id": "f99a0706-22c5-467a-b6a9-1fe56b23bf6c",
   "metadata": {},
   "outputs": [],
   "source": [
    "mycom=ps.connect(host=\"localhost\",user=\"root\",database=\"payroll\",password=\"root@123\")"
   ]
  },
  {
   "cell_type": "code",
   "execution_count": 14,
   "id": "6c7cd1a2-0b63-416b-ba4f-a3c3d076aa56",
   "metadata": {},
   "outputs": [],
   "source": [
    "mycur = mycom.cursor()"
   ]
  },
  {
   "cell_type": "code",
   "execution_count": 21,
   "id": "9df71cda-028c-47de-af0e-30f1f0950eae",
   "metadata": {},
   "outputs": [
    {
     "data": {
      "text/plain": [
       "0"
      ]
     },
     "execution_count": 21,
     "metadata": {},
     "output_type": "execute_result"
    }
   ],
   "source": [
    "mycur.execute(\"create table if not exists student(rollno int,name varchar(33),age int)\")"
   ]
  },
  {
   "cell_type": "code",
   "execution_count": 22,
   "id": "ea67305e-7b1b-4f7f-a269-dbb5d7f278aa",
   "metadata": {},
   "outputs": [
    {
     "data": {
      "text/plain": [
       "3"
      ]
     },
     "execution_count": 22,
     "metadata": {},
     "output_type": "execute_result"
    }
   ],
   "source": [
    "mycur.execute(\"desc student\")"
   ]
  },
  {
   "cell_type": "code",
   "execution_count": 23,
   "id": "d4c67e65-bf1b-43e7-9684-81969f5c4504",
   "metadata": {},
   "outputs": [
    {
     "data": {
      "text/plain": [
       "(('rollno', 'int', 'YES', '', None, ''),\n",
       " ('name', 'varchar(33)', 'YES', '', None, ''),\n",
       " ('age', 'int', 'YES', '', None, ''))"
      ]
     },
     "execution_count": 23,
     "metadata": {},
     "output_type": "execute_result"
    }
   ],
   "source": [
    "mycur.fetchall()"
   ]
  },
  {
   "cell_type": "code",
   "execution_count": 31,
   "id": "42fc29c4-fa66-4694-b886-4d08e550356b",
   "metadata": {},
   "outputs": [],
   "source": [
    "mycur.execute(\"insert into student values(1,'riya',23),(2,'kiya',22),(3,'kiran',24),(4,'rahul',22)\")\n",
    "mycom.commit()"
   ]
  },
  {
   "cell_type": "code",
   "execution_count": 33,
   "id": "07d9ce6f-0753-4f74-8318-ff49b6d0df34",
   "metadata": {},
   "outputs": [
    {
     "data": {
      "text/plain": [
       "((1, 'riya', 23),\n",
       " (2, 'kiya', 22),\n",
       " (3, 'kiran', 24),\n",
       " (4, 'rahul', 22),\n",
       " (1, 'riya', 23),\n",
       " (2, 'kiya', 22),\n",
       " (3, 'kiran', 24),\n",
       " (4, 'rahul', 22),\n",
       " (1, 'riya', 23),\n",
       " (2, 'kiya', 22),\n",
       " (3, 'kiran', 24),\n",
       " (4, 'rahul', 22),\n",
       " (1, 'riya', 23),\n",
       " (2, 'kiya', 22),\n",
       " (3, 'kiran', 24),\n",
       " (4, 'rahul', 22),\n",
       " (1, 'riya', 23),\n",
       " (2, 'kiya', 22),\n",
       " (3, 'kiran', 24),\n",
       " (4, 'rahul', 22),\n",
       " (1, 'riya', 23),\n",
       " (2, 'kiya', 22),\n",
       " (3, 'kiran', 24),\n",
       " (4, 'rahul', 22))"
      ]
     },
     "execution_count": 33,
     "metadata": {},
     "output_type": "execute_result"
    }
   ],
   "source": [
    "mycur.execute('select * from student')\n",
    "mycur.fetchall()"
   ]
  },
  {
   "cell_type": "code",
   "execution_count": 39,
   "id": "31dbdcf6-b827-41d0-a2b8-c8ec37acfc51",
   "metadata": {},
   "outputs": [
    {
     "data": {
      "text/plain": [
       "((1, 'riya', 23), (2, 'kiya', 22))"
      ]
     },
     "execution_count": 39,
     "metadata": {},
     "output_type": "execute_result"
    }
   ],
   "source": [
    "mycur.execute('select * from student')\n",
    "mycur.fetchmany(2)"
   ]
  },
  {
   "cell_type": "code",
   "execution_count": null,
   "id": "bcdabbb1-48bc-4bf6-a7ce-202561edf041",
   "metadata": {},
   "outputs": [],
   "source": []
  }
 ],
 "metadata": {
  "kernelspec": {
   "display_name": "Python 3 (ipykernel)",
   "language": "python",
   "name": "python3"
  },
  "language_info": {
   "codemirror_mode": {
    "name": "ipython",
    "version": 3
   },
   "file_extension": ".py",
   "mimetype": "text/x-python",
   "name": "python",
   "nbconvert_exporter": "python",
   "pygments_lexer": "ipython3",
   "version": "3.11.7"
  }
 },
 "nbformat": 4,
 "nbformat_minor": 5
}
