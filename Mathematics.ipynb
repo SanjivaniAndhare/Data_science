{
 "cells": [
  {
   "cell_type": "markdown",
   "id": "09ede9cf-f34d-4dd6-a13c-f560c5ca2cd6",
   "metadata": {},
   "source": [
    "# calculus:--\n",
    "calculus is the branch of mathamatics that deals with the study of rates of change and acumulation of quanties . it provides a framework for understanding how things change and has two main branches differentional caculs and integral calucls\n",
    "\n",
    "\n",
    "# Diffrentiail calculus :--\n",
    "it is focuses on the conncept of derivatives the derivatives of function represent the rate of change of that function.at the given point in simple terms it tess you hoew  afunction values is changib=ng as yhe input(usually denoted by \"x\")\n",
    "\n",
    "The derivaties of function f(x) is often denoted as f(x) or dy/dx, where y represrent variable and \"x\" represent the independent variable. \n",
    "\n",
    "# application of derivatives in finding slopes, velocities, and optimaization problem\n",
    "\n",
    "ex.,:-- Concider a car position at different time .The derivative of the position function with respect to time given you the car velocity ,which tells you how fast car is movig at a given movement.\n",
    "\n",
    "# Integral calculs:---\n",
    "Integral calculus, on the other hand , deals with the concept of intergration. integration allows us to find the cumulative effect or accumulation of quantities over an interval. It is often used to find areas, valumes, and totals.\n",
    "\n",
    "The integralof a function f(x) with respect to 'x' oftendenoted as f(x) dx. It is essentially the reverse process of differentiation and is used to find antiderivatives.\n",
    "\n",
    "Applications in finding areas under curves, valumes of solids, and more \n",
    "\n",
    "ex,:- supose you have a velocity-time graph for a cars motion. The area under this graph, when integrated, gives you the distance traveled by the car. This is because integrating velocity over time yields the displacement.\n"
   ]
  },
  {
   "cell_type": "code",
   "execution_count": 13,
   "id": "26d4c438-ce00-4584-86dd-8b463d9fdc1d",
   "metadata": {},
   "outputs": [
    {
     "name": "stdout",
     "output_type": "stream",
     "text": [
      "Requirement already satisfied: sympy in c:\\users\\admin\\anaconda3\\lib\\site-packages (1.12)\n",
      "Requirement already satisfied: mpmath>=0.19 in c:\\users\\admin\\anaconda3\\lib\\site-packages (from sympy) (1.3.0)\n",
      "Note: you may need to restart the kernel to use updated packages.\n"
     ]
    }
   ],
   "source": [
    "pip install sympy "
   ]
  },
  {
   "cell_type": "code",
   "execution_count": 14,
   "id": "3da9e1e1-c85e-4381-8da5-2aed2cf7b141",
   "metadata": {},
   "outputs": [],
   "source": [
    "import sympy as sp"
   ]
  },
  {
   "cell_type": "code",
   "execution_count": 15,
   "id": "c9109150-a9ba-47c5-beda-014a6257823e",
   "metadata": {},
   "outputs": [
    {
     "name": "stdout",
     "output_type": "stream",
     "text": [
      "derivative: 2*x + 3\n",
      "Original function: x**2 + 4*x + 5\n",
      "Derivative: 2*x + 3\n"
     ]
    }
   ],
   "source": [
    "#define a syymbol and a function \n",
    "from sympy import symbols, diff\n",
    "x=sp.symbols('x')\n",
    "f=x**2 + 3*x +2\n",
    "\n",
    "#calculate the derivatives\n",
    "f_prime =sp.diff(f, x)\n",
    "\n",
    "# print the derivative \n",
    "print('derivative:', f_prime)\n",
    "#This code defines the function\n",
    "f1=x**2+4*x+5\n",
    "\n",
    "#find the derivative of the fuction\n",
    "f_prime_1= diff(f1, x)\n",
    "\n",
    "print(\"Original function:\", f1)\n",
    "print(\"Derivative:\", f_prime)\n",
    "# x ** 3+ 2* x +7"
   ]
  },
  {
   "cell_type": "code",
   "execution_count": null,
   "id": "462ad818-57e2-4526-8977-5dca3dc67bf2",
   "metadata": {},
   "outputs": [],
   "source": []
  }
 ],
 "metadata": {
  "kernelspec": {
   "display_name": "Python 3 (ipykernel)",
   "language": "python",
   "name": "python3"
  },
  "language_info": {
   "codemirror_mode": {
    "name": "ipython",
    "version": 3
   },
   "file_extension": ".py",
   "mimetype": "text/x-python",
   "name": "python",
   "nbconvert_exporter": "python",
   "pygments_lexer": "ipython3",
   "version": "3.11.7"
  }
 },
 "nbformat": 4,
 "nbformat_minor": 5
}
