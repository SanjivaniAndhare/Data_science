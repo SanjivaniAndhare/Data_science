{
 "cells": [
  {
   "cell_type": "code",
   "execution_count": 1,
   "id": "91c75d7c-df71-41b5-9ea6-88a0971a2bf8",
   "metadata": {},
   "outputs": [
    {
     "data": {
      "text/plain": [
       "0    10\n",
       "1    20\n",
       "2    30\n",
       "3    40\n",
       "dtype: int64"
      ]
     },
     "execution_count": 1,
     "metadata": {},
     "output_type": "execute_result"
    }
   ],
   "source": [
    "import pandas as pd\n",
    "l=[10,20,30,40]\n",
    "pd.Series(l)         #gives you table in row and col formate"
   ]
  },
  {
   "cell_type": "code",
   "execution_count": 2,
   "id": "2f794128-bb82-43bb-8a68-63e250366fae",
   "metadata": {},
   "outputs": [
    {
     "data": {
      "text/plain": [
       "i      10\n",
       "ii     20\n",
       "iv     30\n",
       "iii    40\n",
       "dtype: int64"
      ]
     },
     "execution_count": 2,
     "metadata": {},
     "output_type": "execute_result"
    }
   ],
   "source": [
    "#to chenge index\n",
    "pd.Series(l,index={'i','ii','iii','iv'})"
   ]
  },
  {
   "cell_type": "code",
   "execution_count": 5,
   "id": "0bd7aa53-6e94-41cb-9fdc-85bc90e2c299",
   "metadata": {},
   "outputs": [
    {
     "data": {
      "text/html": [
       "<div>\n",
       "<style scoped>\n",
       "    .dataframe tbody tr th:only-of-type {\n",
       "        vertical-align: middle;\n",
       "    }\n",
       "\n",
       "    .dataframe tbody tr th {\n",
       "        vertical-align: top;\n",
       "    }\n",
       "\n",
       "    .dataframe thead th {\n",
       "        text-align: right;\n",
       "    }\n",
       "</style>\n",
       "<table border=\"1\" class=\"dataframe\">\n",
       "  <thead>\n",
       "    <tr style=\"text-align: right;\">\n",
       "      <th></th>\n",
       "      <th>name</th>\n",
       "      <th>percentage</th>\n",
       "      <th>city</th>\n",
       "      <th>age</th>\n",
       "    </tr>\n",
       "  </thead>\n",
       "  <tbody>\n",
       "    <tr>\n",
       "      <th>0</th>\n",
       "      <td>ram</td>\n",
       "      <td>89</td>\n",
       "      <td>pune</td>\n",
       "      <td>23</td>\n",
       "    </tr>\n",
       "    <tr>\n",
       "      <th>1</th>\n",
       "      <td>pratik</td>\n",
       "      <td>90</td>\n",
       "      <td>thane</td>\n",
       "      <td>22</td>\n",
       "    </tr>\n",
       "    <tr>\n",
       "      <th>2</th>\n",
       "      <td>kiya</td>\n",
       "      <td>80</td>\n",
       "      <td>nagar</td>\n",
       "      <td>21</td>\n",
       "    </tr>\n",
       "  </tbody>\n",
       "</table>\n",
       "</div>"
      ],
      "text/plain": [
       "     name  percentage   city  age\n",
       "0     ram          89   pune   23\n",
       "1  pratik          90  thane   22\n",
       "2    kiya          80  nagar   21"
      ]
     },
     "execution_count": 5,
     "metadata": {},
     "output_type": "execute_result"
    }
   ],
   "source": [
    "d={'name':['ram','pratik','kiya'],'percentage':[89,90,80],'city':['pune','thane','nagar'],'age':[23,22,21]}\n",
    "pd.DataFrame(d)  #"
   ]
  },
  {
   "cell_type": "code",
   "execution_count": 6,
   "id": "6dbfef7a-2e8f-43b6-ad80-606913bb9713",
   "metadata": {},
   "outputs": [
    {
     "data": {
      "text/html": [
       "<div>\n",
       "<style scoped>\n",
       "    .dataframe tbody tr th:only-of-type {\n",
       "        vertical-align: middle;\n",
       "    }\n",
       "\n",
       "    .dataframe tbody tr th {\n",
       "        vertical-align: top;\n",
       "    }\n",
       "\n",
       "    .dataframe thead th {\n",
       "        text-align: right;\n",
       "    }\n",
       "</style>\n",
       "<table border=\"1\" class=\"dataframe\">\n",
       "  <thead>\n",
       "    <tr style=\"text-align: right;\">\n",
       "      <th></th>\n",
       "      <th>name</th>\n",
       "      <th>job</th>\n",
       "      <th>city</th>\n",
       "      <th>age</th>\n",
       "    </tr>\n",
       "  </thead>\n",
       "  <tbody>\n",
       "    <tr>\n",
       "      <th>0</th>\n",
       "      <td>kiya</td>\n",
       "      <td>manager</td>\n",
       "      <td>pune</td>\n",
       "      <td>24</td>\n",
       "    </tr>\n",
       "    <tr>\n",
       "      <th>1</th>\n",
       "      <td>sonali</td>\n",
       "      <td>clerk</td>\n",
       "      <td>pune</td>\n",
       "      <td>26</td>\n",
       "    </tr>\n",
       "    <tr>\n",
       "      <th>2</th>\n",
       "      <td>kiran</td>\n",
       "      <td>engineer</td>\n",
       "      <td>thane</td>\n",
       "      <td>31</td>\n",
       "    </tr>\n",
       "    <tr>\n",
       "      <th>3</th>\n",
       "      <td>megha</td>\n",
       "      <td>assistant</td>\n",
       "      <td>nagar</td>\n",
       "      <td>28</td>\n",
       "    </tr>\n",
       "    <tr>\n",
       "      <th>4</th>\n",
       "      <td>tushar</td>\n",
       "      <td>salemen</td>\n",
       "      <td>saswad</td>\n",
       "      <td>25</td>\n",
       "    </tr>\n",
       "  </tbody>\n",
       "</table>\n",
       "</div>"
      ],
      "text/plain": [
       "     name        job    city  age\n",
       "0    kiya    manager    pune   24\n",
       "1  sonali      clerk    pune   26\n",
       "2   kiran   engineer   thane   31\n",
       "3   megha  assistant   nagar   28\n",
       "4  tushar    salemen  saswad   25"
      ]
     },
     "execution_count": 6,
     "metadata": {},
     "output_type": "execute_result"
    }
   ],
   "source": [
    "d={'name':['kiya','sonali','kiran','megha','tushar'],'job':['manager','clerk','engineer','assistant','salemen'],\n",
    "   'city':['pune','pune','thane','nagar','saswad'],'age':[24,26,31,28,25]}\n",
    "pd.DataFrame(d)"
   ]
  },
  {
   "cell_type": "code",
   "execution_count": null,
   "id": "a58eb4eb-1889-46ec-888d-e058301c0b60",
   "metadata": {},
   "outputs": [],
   "source": []
  }
 ],
 "metadata": {
  "kernelspec": {
   "display_name": "Python 3 (ipykernel)",
   "language": "python",
   "name": "python3"
  },
  "language_info": {
   "codemirror_mode": {
    "name": "ipython",
    "version": 3
   },
   "file_extension": ".py",
   "mimetype": "text/x-python",
   "name": "python",
   "nbconvert_exporter": "python",
   "pygments_lexer": "ipython3",
   "version": "3.11.7"
  }
 },
 "nbformat": 4,
 "nbformat_minor": 5
}
