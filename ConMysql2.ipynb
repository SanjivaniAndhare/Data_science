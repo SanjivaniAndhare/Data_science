{
 "cells": [
  {
   "cell_type": "code",
   "execution_count": 1,
   "id": "c3c0ce35-50f0-491a-bcd8-1baff3261b4f",
   "metadata": {},
   "outputs": [
    {
     "name": "stdout",
     "output_type": "stream",
     "text": [
      "Requirement already satisfied: pymysql in c:\\users\\admin\\anaconda3\\lib\\site-packages (1.1.1)\n"
     ]
    }
   ],
   "source": [
    "!pip install pymysql "
   ]
  },
  {
   "cell_type": "code",
   "execution_count": 2,
   "id": "f00fce33-be49-40ad-8517-657f7d7cff9c",
   "metadata": {},
   "outputs": [],
   "source": [
    "import pymysql as ps\n",
    "import pandas as pd\n",
    "import matplotlib.pyplot as plt\n",
    "import warnings\n",
    "warnings.filterwarnings(\"ignore\")"
   ]
  },
  {
   "cell_type": "code",
   "execution_count": 3,
   "id": "08046389-bf92-4cc5-991e-5646dbcbfb09",
   "metadata": {},
   "outputs": [],
   "source": [
    "mycon = ps.connect(host =\"localhost\",user=\"root\",database=\"payroll\",password=\"root@123\")"
   ]
  },
  {
   "cell_type": "code",
   "execution_count": 4,
   "id": "6199c981-5c4b-49a1-a8b5-8c179355cdb6",
   "metadata": {},
   "outputs": [],
   "source": [
    "mycur=mycon.cursor()"
   ]
  },
  {
   "cell_type": "code",
   "execution_count": 5,
   "id": "24625b2f-f455-4c3a-903e-9fed417c9d68",
   "metadata": {},
   "outputs": [
    {
     "data": {
      "text/plain": [
       "0"
      ]
     },
     "execution_count": 5,
     "metadata": {},
     "output_type": "execute_result"
    }
   ],
   "source": [
    "mycur.execute(\"create table if not exists student(rollno int,name varchar(30),age int)\")"
   ]
  },
  {
   "cell_type": "code",
   "execution_count": 6,
   "id": "3de4d9c7-6e0c-4934-b474-60d523f38bf9",
   "metadata": {},
   "outputs": [
    {
     "data": {
      "text/plain": [
       "3"
      ]
     },
     "execution_count": 6,
     "metadata": {},
     "output_type": "execute_result"
    }
   ],
   "source": [
    "mycur.execute(\"desc student\")"
   ]
  },
  {
   "cell_type": "code",
   "execution_count": 7,
   "id": "8cc74254-aaf5-4e6e-af89-efde5dbe2037",
   "metadata": {},
   "outputs": [
    {
     "data": {
      "text/plain": [
       "((1, 'riya', 23),\n",
       " (2, 'kiya', 22),\n",
       " (3, 'pratik', 24),\n",
       " (1, 'riya', 23),\n",
       " (2, 'kiya', 22),\n",
       " (3, 'pratik', 24),\n",
       " (1, 'riya', 23),\n",
       " (2, 'kiya', 22),\n",
       " (3, 'pratik', 24),\n",
       " (1, 'riya', 23),\n",
       " (2, 'kiya', 22),\n",
       " (3, 'pratik', 24),\n",
       " (1, 'riya', 23),\n",
       " (2, 'kiya', 22),\n",
       " (3, 'pratik', 24),\n",
       " (1, 'riya', 23),\n",
       " (2, 'kiya', 22),\n",
       " (3, 'pratik', 24))"
      ]
     },
     "execution_count": 7,
     "metadata": {},
     "output_type": "execute_result"
    }
   ],
   "source": [
    "mycur.execute('select * from student')\n",
    "mycur.fetchall()"
   ]
  },
  {
   "cell_type": "code",
   "execution_count": 8,
   "id": "a122e1e7-1d01-4451-959e-3b32fc23f2dc",
   "metadata": {},
   "outputs": [
    {
     "data": {
      "text/plain": [
       "0"
      ]
     },
     "execution_count": 8,
     "metadata": {},
     "output_type": "execute_result"
    }
   ],
   "source": [
    "mycur.execute(\"update student set name ='pratik' where rollno=3\")"
   ]
  },
  {
   "cell_type": "code",
   "execution_count": 9,
   "id": "62d855a2-5bd5-41d8-b30a-d7085d70fcc4",
   "metadata": {},
   "outputs": [
    {
     "data": {
      "text/plain": [
       "18"
      ]
     },
     "execution_count": 9,
     "metadata": {},
     "output_type": "execute_result"
    }
   ],
   "source": [
    "mycur.execute('select * from student')"
   ]
  },
  {
   "cell_type": "code",
   "execution_count": 10,
   "id": "2346e1e2-9a52-4983-91d4-8d5bbeb1cc98",
   "metadata": {},
   "outputs": [
    {
     "data": {
      "text/plain": [
       "0"
      ]
     },
     "execution_count": 10,
     "metadata": {},
     "output_type": "execute_result"
    }
   ],
   "source": [
    "mycur.execute(\"delete from student where rollno=4\")"
   ]
  },
  {
   "cell_type": "code",
   "execution_count": 11,
   "id": "35caba83-5307-44de-b5cc-57cd1f480b2b",
   "metadata": {},
   "outputs": [],
   "source": [
    "mycon.commit()"
   ]
  },
  {
   "cell_type": "code",
   "execution_count": 20,
   "id": "7e2e98de-1c82-4bb7-aae2-c424481e9a0d",
   "metadata": {},
   "outputs": [],
   "source": [
    "rn=4\n",
    "nm=\"Raj\"\n",
    "agel=32\n",
    "\n",
    "mycur.execute(\"\"\"insert into student values(\"%s\",\"%s\",\"%s\")\"\"\"%(rn,nm,agel))\n",
    "mycon.commit()"
   ]
  },
  {
   "cell_type": "code",
   "execution_count": 21,
   "id": "7e52db95-0f5f-48a0-adb4-50e1d8b74e58",
   "metadata": {},
   "outputs": [
    {
     "data": {
      "text/plain": [
       "((1, 'riya', 23),\n",
       " (2, 'kiya', 22),\n",
       " (3, 'pratik', 24),\n",
       " (1, 'riya', 23),\n",
       " (2, 'kiya', 22),\n",
       " (3, 'pratik', 24),\n",
       " (1, 'riya', 23),\n",
       " (2, 'kiya', 22),\n",
       " (3, 'pratik', 24),\n",
       " (1, 'riya', 23),\n",
       " (2, 'kiya', 22),\n",
       " (3, 'pratik', 24),\n",
       " (1, 'riya', 23),\n",
       " (2, 'kiya', 22),\n",
       " (3, 'pratik', 24),\n",
       " (1, 'riya', 23),\n",
       " (2, 'kiya', 22),\n",
       " (3, 'pratik', 24),\n",
       " (5, 'Raj', 32),\n",
       " (4, 'Raj', 32))"
      ]
     },
     "execution_count": 21,
     "metadata": {},
     "output_type": "execute_result"
    }
   ],
   "source": [
    "mycur.execute('select * from student')\n",
    "mycur.fetchall()"
   ]
  },
  {
   "cell_type": "code",
   "execution_count": 25,
   "id": "ba9dadd0-3ed3-4292-96e7-84338d0da98b",
   "metadata": {},
   "outputs": [
    {
     "data": {
      "text/plain": [
       "(1, 'riya', 23)"
      ]
     },
     "execution_count": 25,
     "metadata": {},
     "output_type": "execute_result"
    }
   ],
   "source": [
    "mycur.execute('select * from student')\n",
    "mycur.fetchone()"
   ]
  },
  {
   "cell_type": "code",
   "execution_count": 22,
   "id": "630db640-f4a3-4636-87ae-aeae594af9f3",
   "metadata": {},
   "outputs": [
    {
     "data": {
      "text/plain": [
       "((1, 'riya', 23), (2, 'kiya', 22), (3, 'pratik', 24), (1, 'riya', 23))"
      ]
     },
     "execution_count": 22,
     "metadata": {},
     "output_type": "execute_result"
    }
   ],
   "source": [
    "mycur.execute('select * from student')\n",
    "mycur.fetchmany(4)"
   ]
  },
  {
   "cell_type": "code",
   "execution_count": null,
   "id": "7c1d1776-6e52-461b-a568-fc33847a2670",
   "metadata": {},
   "outputs": [],
   "source": []
  }
 ],
 "metadata": {
  "kernelspec": {
   "display_name": "Python 3 (ipykernel)",
   "language": "python",
   "name": "python3"
  },
  "language_info": {
   "codemirror_mode": {
    "name": "ipython",
    "version": 3
   },
   "file_extension": ".py",
   "mimetype": "text/x-python",
   "name": "python",
   "nbconvert_exporter": "python",
   "pygments_lexer": "ipython3",
   "version": "3.11.7"
  }
 },
 "nbformat": 4,
 "nbformat_minor": 5
}
